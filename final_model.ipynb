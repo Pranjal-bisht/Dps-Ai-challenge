{
 "cells": [
  {
   "cell_type": "markdown",
   "metadata": {},
   "source": [
    "## Importing Libraries\n"
   ]
  },
  {
   "cell_type": "code",
   "execution_count": 1435,
   "metadata": {
    "collapsed": false,
    "pycharm": {
     "is_executing": true
    }
   },
   "outputs": [],
   "source": [
    "# !pip install --upgrade pip"
   ]
  },
  {
   "cell_type": "code",
   "execution_count": 1436,
   "metadata": {
    "pycharm": {
     "is_executing": true
    }
   },
   "outputs": [],
   "source": [
    "# !pip install -r ./requirements.txt"
   ]
  },
  {
   "cell_type": "code",
   "execution_count": 1437,
   "metadata": {
    "execution": {
     "iopub.execute_input": "2023-03-13T07:39:42.581366Z",
     "iopub.status.busy": "2023-03-13T07:39:42.580208Z",
     "iopub.status.idle": "2023-03-13T07:39:44.271721Z",
     "shell.execute_reply": "2023-03-13T07:39:44.270498Z",
     "shell.execute_reply.started": "2023-03-13T07:39:42.581320Z"
    },
    "trusted": true
   },
   "outputs": [],
   "source": [
    "#supress warnings\n",
    "import warnings\n",
    "warnings.filterwarnings('ignore')\n",
    "\n",
    "#numpy and pandas for data manipulation\n",
    "import pandas as pd\n",
    "import numpy as np\n",
    "import xgboost as xg\n",
    "import seaborn as sns\n",
    "from sklearn.preprocessing import LabelEncoder\n",
    "from sklearn.model_selection import train_test_split\n",
    "from sklearn.linear_model import LinearRegression\n",
    "from sklearn.metrics import mean_squared_error\n",
    "\n",
    "#matplotlib and seaborn for data visualization\n",
    "import matplotlib.pyplot as plt\n",
    "\n",
    "#file system management\n",
    "import os"
   ]
  },
  {
   "cell_type": "markdown",
   "metadata": {},
   "source": [
    "## Reading the dataset\n"
   ]
  },
  {
   "cell_type": "code",
   "execution_count": 1438,
   "metadata": {
    "execution": {
     "iopub.execute_input": "2023-03-13T07:39:44.275430Z",
     "iopub.status.busy": "2023-03-13T07:39:44.274907Z",
     "iopub.status.idle": "2023-03-13T07:39:44.325971Z",
     "shell.execute_reply": "2023-03-13T07:39:44.325062Z",
     "shell.execute_reply.started": "2023-03-13T07:39:44.275380Z"
    },
    "trusted": true
   },
   "outputs": [
    {
     "data": {
      "text/html": [
       "<div>\n",
       "<style scoped>\n",
       "    .dataframe tbody tr th:only-of-type {\n",
       "        vertical-align: middle;\n",
       "    }\n",
       "\n",
       "    .dataframe tbody tr th {\n",
       "        vertical-align: top;\n",
       "    }\n",
       "\n",
       "    .dataframe thead th {\n",
       "        text-align: right;\n",
       "    }\n",
       "</style>\n",
       "<table border=\"1\" class=\"dataframe\">\n",
       "  <thead>\n",
       "    <tr style=\"text-align: right;\">\n",
       "      <th></th>\n",
       "      <th>MONATSZAHL</th>\n",
       "      <th>AUSPRÄGUNG</th>\n",
       "      <th>JAHR</th>\n",
       "      <th>MONAT</th>\n",
       "      <th>WERT</th>\n",
       "      <th>VORJAHRESWERT</th>\n",
       "      <th>VERÄND_VORMONAT_PROZENT</th>\n",
       "      <th>VERÄND_VORJAHRESMONAT_PROZENT</th>\n",
       "      <th>ZWÖLF_MONATE_MITTELWERT</th>\n",
       "    </tr>\n",
       "  </thead>\n",
       "  <tbody>\n",
       "    <tr>\n",
       "      <th>0</th>\n",
       "      <td>Alkoholunfälle</td>\n",
       "      <td>insgesamt</td>\n",
       "      <td>2022</td>\n",
       "      <td>202201</td>\n",
       "      <td>NaN</td>\n",
       "      <td>16.0</td>\n",
       "      <td>NaN</td>\n",
       "      <td>NaN</td>\n",
       "      <td>NaN</td>\n",
       "    </tr>\n",
       "    <tr>\n",
       "      <th>1</th>\n",
       "      <td>Alkoholunfälle</td>\n",
       "      <td>insgesamt</td>\n",
       "      <td>2022</td>\n",
       "      <td>202202</td>\n",
       "      <td>NaN</td>\n",
       "      <td>14.0</td>\n",
       "      <td>NaN</td>\n",
       "      <td>NaN</td>\n",
       "      <td>NaN</td>\n",
       "    </tr>\n",
       "    <tr>\n",
       "      <th>2</th>\n",
       "      <td>Alkoholunfälle</td>\n",
       "      <td>insgesamt</td>\n",
       "      <td>2022</td>\n",
       "      <td>202203</td>\n",
       "      <td>NaN</td>\n",
       "      <td>24.0</td>\n",
       "      <td>NaN</td>\n",
       "      <td>NaN</td>\n",
       "      <td>NaN</td>\n",
       "    </tr>\n",
       "    <tr>\n",
       "      <th>3</th>\n",
       "      <td>Alkoholunfälle</td>\n",
       "      <td>insgesamt</td>\n",
       "      <td>2022</td>\n",
       "      <td>202204</td>\n",
       "      <td>NaN</td>\n",
       "      <td>16.0</td>\n",
       "      <td>NaN</td>\n",
       "      <td>NaN</td>\n",
       "      <td>NaN</td>\n",
       "    </tr>\n",
       "    <tr>\n",
       "      <th>4</th>\n",
       "      <td>Alkoholunfälle</td>\n",
       "      <td>insgesamt</td>\n",
       "      <td>2022</td>\n",
       "      <td>202205</td>\n",
       "      <td>NaN</td>\n",
       "      <td>24.0</td>\n",
       "      <td>NaN</td>\n",
       "      <td>NaN</td>\n",
       "      <td>NaN</td>\n",
       "    </tr>\n",
       "  </tbody>\n",
       "</table>\n",
       "</div>"
      ],
      "text/plain": [
       "       MONATSZAHL AUSPRÄGUNG  JAHR   MONAT  WERT  VORJAHRESWERT  \\\n",
       "0  Alkoholunfälle  insgesamt  2022  202201   NaN           16.0   \n",
       "1  Alkoholunfälle  insgesamt  2022  202202   NaN           14.0   \n",
       "2  Alkoholunfälle  insgesamt  2022  202203   NaN           24.0   \n",
       "3  Alkoholunfälle  insgesamt  2022  202204   NaN           16.0   \n",
       "4  Alkoholunfälle  insgesamt  2022  202205   NaN           24.0   \n",
       "\n",
       "   VERÄND_VORMONAT_PROZENT  VERÄND_VORJAHRESMONAT_PROZENT  \\\n",
       "0                      NaN                            NaN   \n",
       "1                      NaN                            NaN   \n",
       "2                      NaN                            NaN   \n",
       "3                      NaN                            NaN   \n",
       "4                      NaN                            NaN   \n",
       "\n",
       "   ZWÖLF_MONATE_MITTELWERT  \n",
       "0                      NaN  \n",
       "1                      NaN  \n",
       "2                      NaN  \n",
       "3                      NaN  \n",
       "4                      NaN  "
      ]
     },
     "execution_count": 1438,
     "metadata": {},
     "output_type": "execute_result"
    }
   ],
   "source": [
    "df = pd.read_csv('./data/monatszahlen2209_verkehrsunfaelle.csv')\n",
    "df.head()"
   ]
  },
  {
   "cell_type": "code",
   "execution_count": 1439,
   "metadata": {
    "execution": {
     "iopub.execute_input": "2023-03-13T07:39:44.327617Z",
     "iopub.status.busy": "2023-03-13T07:39:44.327291Z",
     "iopub.status.idle": "2023-03-13T07:39:44.339403Z",
     "shell.execute_reply": "2023-03-13T07:39:44.337961Z",
     "shell.execute_reply.started": "2023-03-13T07:39:44.327584Z"
    },
    "trusted": true
   },
   "outputs": [
    {
     "data": {
      "text/plain": [
       "MONATSZAHL                         0\n",
       "AUSPRÄGUNG                         0\n",
       "JAHR                               0\n",
       "MONAT                              0\n",
       "WERT                              84\n",
       "VORJAHRESWERT                     91\n",
       "VERÄND_VORMONAT_PROZENT          246\n",
       "VERÄND_VORJAHRESMONAT_PROZENT    176\n",
       "ZWÖLF_MONATE_MITTELWERT          238\n",
       "dtype: int64"
      ]
     },
     "execution_count": 1439,
     "metadata": {},
     "output_type": "execute_result"
    }
   ],
   "source": [
    "df.isnull().sum()"
   ]
  },
  {
   "cell_type": "markdown",
   "metadata": {},
   "source": [
    "## Preprocessing the dataset\n"
   ]
  },
  {
   "cell_type": "code",
   "execution_count": 1440,
   "metadata": {
    "execution": {
     "iopub.execute_input": "2023-03-13T07:39:44.342343Z",
     "iopub.status.busy": "2023-03-13T07:39:44.341988Z",
     "iopub.status.idle": "2023-03-13T07:39:44.359101Z",
     "shell.execute_reply": "2023-03-13T07:39:44.357765Z",
     "shell.execute_reply.started": "2023-03-13T07:39:44.342310Z"
    },
    "trusted": true
   },
   "outputs": [
    {
     "data": {
      "text/html": [
       "<div>\n",
       "<style scoped>\n",
       "    .dataframe tbody tr th:only-of-type {\n",
       "        vertical-align: middle;\n",
       "    }\n",
       "\n",
       "    .dataframe tbody tr th {\n",
       "        vertical-align: top;\n",
       "    }\n",
       "\n",
       "    .dataframe thead th {\n",
       "        text-align: right;\n",
       "    }\n",
       "</style>\n",
       "<table border=\"1\" class=\"dataframe\">\n",
       "  <thead>\n",
       "    <tr style=\"text-align: right;\">\n",
       "      <th></th>\n",
       "      <th>MONATSZAHL</th>\n",
       "      <th>AUSPRÄGUNG</th>\n",
       "      <th>JAHR</th>\n",
       "      <th>MONAT</th>\n",
       "      <th>WERT</th>\n",
       "    </tr>\n",
       "  </thead>\n",
       "  <tbody>\n",
       "    <tr>\n",
       "      <th>0</th>\n",
       "      <td>Alkoholunfälle</td>\n",
       "      <td>insgesamt</td>\n",
       "      <td>2022</td>\n",
       "      <td>202201</td>\n",
       "      <td>NaN</td>\n",
       "    </tr>\n",
       "    <tr>\n",
       "      <th>1</th>\n",
       "      <td>Alkoholunfälle</td>\n",
       "      <td>insgesamt</td>\n",
       "      <td>2022</td>\n",
       "      <td>202202</td>\n",
       "      <td>NaN</td>\n",
       "    </tr>\n",
       "    <tr>\n",
       "      <th>2</th>\n",
       "      <td>Alkoholunfälle</td>\n",
       "      <td>insgesamt</td>\n",
       "      <td>2022</td>\n",
       "      <td>202203</td>\n",
       "      <td>NaN</td>\n",
       "    </tr>\n",
       "    <tr>\n",
       "      <th>3</th>\n",
       "      <td>Alkoholunfälle</td>\n",
       "      <td>insgesamt</td>\n",
       "      <td>2022</td>\n",
       "      <td>202204</td>\n",
       "      <td>NaN</td>\n",
       "    </tr>\n",
       "    <tr>\n",
       "      <th>4</th>\n",
       "      <td>Alkoholunfälle</td>\n",
       "      <td>insgesamt</td>\n",
       "      <td>2022</td>\n",
       "      <td>202205</td>\n",
       "      <td>NaN</td>\n",
       "    </tr>\n",
       "  </tbody>\n",
       "</table>\n",
       "</div>"
      ],
      "text/plain": [
       "       MONATSZAHL AUSPRÄGUNG  JAHR   MONAT  WERT\n",
       "0  Alkoholunfälle  insgesamt  2022  202201   NaN\n",
       "1  Alkoholunfälle  insgesamt  2022  202202   NaN\n",
       "2  Alkoholunfälle  insgesamt  2022  202203   NaN\n",
       "3  Alkoholunfälle  insgesamt  2022  202204   NaN\n",
       "4  Alkoholunfälle  insgesamt  2022  202205   NaN"
      ]
     },
     "execution_count": 1440,
     "metadata": {},
     "output_type": "execute_result"
    }
   ],
   "source": [
    "# As mentioned, only first 5 columns are important\n",
    "df = df.iloc[:,:5]\n",
    "df.head()"
   ]
  },
  {
   "cell_type": "code",
   "execution_count": 1441,
   "metadata": {
    "execution": {
     "iopub.execute_input": "2023-03-13T07:39:44.361021Z",
     "iopub.status.busy": "2023-03-13T07:39:44.360592Z",
     "iopub.status.idle": "2023-03-13T07:39:44.380338Z",
     "shell.execute_reply": "2023-03-13T07:39:44.379308Z",
     "shell.execute_reply.started": "2023-03-13T07:39:44.360987Z"
    },
    "trusted": true
   },
   "outputs": [
    {
     "data": {
      "text/html": [
       "<div>\n",
       "<style scoped>\n",
       "    .dataframe tbody tr th:only-of-type {\n",
       "        vertical-align: middle;\n",
       "    }\n",
       "\n",
       "    .dataframe tbody tr th {\n",
       "        vertical-align: top;\n",
       "    }\n",
       "\n",
       "    .dataframe thead th {\n",
       "        text-align: right;\n",
       "    }\n",
       "</style>\n",
       "<table border=\"1\" class=\"dataframe\">\n",
       "  <thead>\n",
       "    <tr style=\"text-align: right;\">\n",
       "      <th></th>\n",
       "      <th>MONATSZAHL</th>\n",
       "      <th>AUSPRÄGUNG</th>\n",
       "      <th>JAHR</th>\n",
       "      <th>MONAT</th>\n",
       "      <th>WERT</th>\n",
       "    </tr>\n",
       "  </thead>\n",
       "  <tbody>\n",
       "    <tr>\n",
       "      <th>25</th>\n",
       "      <td>Alkoholunfälle</td>\n",
       "      <td>insgesamt</td>\n",
       "      <td>2020</td>\n",
       "      <td>Summe</td>\n",
       "      <td>430.0</td>\n",
       "    </tr>\n",
       "    <tr>\n",
       "      <th>26</th>\n",
       "      <td>Alkoholunfälle</td>\n",
       "      <td>insgesamt</td>\n",
       "      <td>2020</td>\n",
       "      <td>202001</td>\n",
       "      <td>28.0</td>\n",
       "    </tr>\n",
       "    <tr>\n",
       "      <th>27</th>\n",
       "      <td>Alkoholunfälle</td>\n",
       "      <td>insgesamt</td>\n",
       "      <td>2020</td>\n",
       "      <td>202002</td>\n",
       "      <td>40.0</td>\n",
       "    </tr>\n",
       "    <tr>\n",
       "      <th>28</th>\n",
       "      <td>Alkoholunfälle</td>\n",
       "      <td>insgesamt</td>\n",
       "      <td>2020</td>\n",
       "      <td>202003</td>\n",
       "      <td>27.0</td>\n",
       "    </tr>\n",
       "    <tr>\n",
       "      <th>29</th>\n",
       "      <td>Alkoholunfälle</td>\n",
       "      <td>insgesamt</td>\n",
       "      <td>2020</td>\n",
       "      <td>202004</td>\n",
       "      <td>26.0</td>\n",
       "    </tr>\n",
       "  </tbody>\n",
       "</table>\n",
       "</div>"
      ],
      "text/plain": [
       "        MONATSZAHL AUSPRÄGUNG  JAHR   MONAT   WERT\n",
       "25  Alkoholunfälle  insgesamt  2020   Summe  430.0\n",
       "26  Alkoholunfälle  insgesamt  2020  202001   28.0\n",
       "27  Alkoholunfälle  insgesamt  2020  202002   40.0\n",
       "28  Alkoholunfälle  insgesamt  2020  202003   27.0\n",
       "29  Alkoholunfälle  insgesamt  2020  202004   26.0"
      ]
     },
     "execution_count": 1441,
     "metadata": {},
     "output_type": "execute_result"
    }
   ],
   "source": [
    "# Dropping data that comes after 2020\n",
    "df = df[(df.JAHR <= 2020) ]\n",
    "df.head()"
   ]
  },
  {
   "cell_type": "markdown",
   "metadata": {},
   "source": [
    "## Exploratory Data Analysis"
   ]
  },
  {
   "cell_type": "code",
   "execution_count": 1442,
   "metadata": {
    "execution": {
     "iopub.execute_input": "2023-03-13T07:39:44.381698Z",
     "iopub.status.busy": "2023-03-13T07:39:44.381347Z",
     "iopub.status.idle": "2023-03-13T07:39:44.405360Z",
     "shell.execute_reply": "2023-03-13T07:39:44.403824Z",
     "shell.execute_reply.started": "2023-03-13T07:39:44.381664Z"
    },
    "trusted": true
   },
   "outputs": [
    {
     "name": "stdout",
     "output_type": "stream",
     "text": [
      "<class 'pandas.core.frame.DataFrame'>\n",
      "Int64Index: 1911 entries, 25 to 2085\n",
      "Data columns (total 5 columns):\n",
      " #   Column      Non-Null Count  Dtype  \n",
      "---  ------      --------------  -----  \n",
      " 0   MONATSZAHL  1911 non-null   object \n",
      " 1   AUSPRÄGUNG  1911 non-null   object \n",
      " 2   JAHR        1911 non-null   int64  \n",
      " 3   MONAT       1911 non-null   object \n",
      " 4   WERT        1911 non-null   float64\n",
      "dtypes: float64(1), int64(1), object(3)\n",
      "memory usage: 89.6+ KB\n"
     ]
    }
   ],
   "source": [
    "df.info()"
   ]
  },
  {
   "cell_type": "code",
   "execution_count": 1443,
   "metadata": {
    "execution": {
     "iopub.execute_input": "2023-03-13T07:39:44.407971Z",
     "iopub.status.busy": "2023-03-13T07:39:44.407363Z",
     "iopub.status.idle": "2023-03-13T07:39:44.422636Z",
     "shell.execute_reply": "2023-03-13T07:39:44.421289Z",
     "shell.execute_reply.started": "2023-03-13T07:39:44.407899Z"
    },
    "trusted": true
   },
   "outputs": [
    {
     "data": {
      "text/plain": [
       "MONATSZAHL    0.0\n",
       "AUSPRÄGUNG    0.0\n",
       "JAHR          0.0\n",
       "MONAT         0.0\n",
       "WERT          0.0\n",
       "dtype: float64"
      ]
     },
     "execution_count": 1443,
     "metadata": {},
     "output_type": "execute_result"
    }
   ],
   "source": [
    "# percentage of data which is null in each column\n",
    "(df.isna().sum() / df.shape[0]) * 100"
   ]
  },
  {
   "cell_type": "code",
   "execution_count": 1444,
   "metadata": {
    "execution": {
     "iopub.execute_input": "2023-03-13T07:39:44.425377Z",
     "iopub.status.busy": "2023-03-13T07:39:44.424245Z",
     "iopub.status.idle": "2023-03-13T07:39:44.439870Z",
     "shell.execute_reply": "2023-03-13T07:39:44.438262Z",
     "shell.execute_reply.started": "2023-03-13T07:39:44.425336Z"
    },
    "trusted": true
   },
   "outputs": [
    {
     "data": {
      "text/plain": [
       "count     1911.000000\n",
       "mean      1440.540031\n",
       "std       4655.514611\n",
       "min          0.000000\n",
       "25%         41.000000\n",
       "50%        399.000000\n",
       "75%        864.000000\n",
       "max      46988.000000\n",
       "Name: WERT, dtype: float64"
      ]
     },
     "execution_count": 1444,
     "metadata": {},
     "output_type": "execute_result"
    }
   ],
   "source": [
    "df[\"WERT\"].describe()"
   ]
  },
  {
   "cell_type": "code",
   "execution_count": 1445,
   "metadata": {
    "execution": {
     "iopub.execute_input": "2023-03-13T07:39:44.441896Z",
     "iopub.status.busy": "2023-03-13T07:39:44.441527Z",
     "iopub.status.idle": "2023-03-13T07:39:44.452690Z",
     "shell.execute_reply": "2023-03-13T07:39:44.451482Z",
     "shell.execute_reply.started": "2023-03-13T07:39:44.441860Z"
    },
    "trusted": true
   },
   "outputs": [
    {
     "data": {
      "text/plain": [
       "count      1911\n",
       "unique      253\n",
       "top       Summe\n",
       "freq        147\n",
       "Name: MONAT, dtype: object"
      ]
     },
     "execution_count": 1445,
     "metadata": {},
     "output_type": "execute_result"
    }
   ],
   "source": [
    "df[\"MONAT\"].describe()"
   ]
  },
  {
   "cell_type": "code",
   "execution_count": 1446,
   "metadata": {
    "execution": {
     "iopub.execute_input": "2023-03-13T07:39:44.458075Z",
     "iopub.status.busy": "2023-03-13T07:39:44.457424Z",
     "iopub.status.idle": "2023-03-13T07:39:44.471161Z",
     "shell.execute_reply": "2023-03-13T07:39:44.469735Z",
     "shell.execute_reply.started": "2023-03-13T07:39:44.458037Z"
    },
    "trusted": true
   },
   "outputs": [
    {
     "data": {
      "text/plain": [
       "count    1911.000000\n",
       "mean     2010.000000\n",
       "std         6.056886\n",
       "min      2000.000000\n",
       "25%      2005.000000\n",
       "50%      2010.000000\n",
       "75%      2015.000000\n",
       "max      2020.000000\n",
       "Name: JAHR, dtype: float64"
      ]
     },
     "execution_count": 1446,
     "metadata": {},
     "output_type": "execute_result"
    }
   ],
   "source": [
    "df[\"JAHR\"].describe()"
   ]
  },
  {
   "cell_type": "code",
   "execution_count": 1447,
   "metadata": {
    "execution": {
     "iopub.execute_input": "2023-03-13T07:39:44.473713Z",
     "iopub.status.busy": "2023-03-13T07:39:44.472715Z",
     "iopub.status.idle": "2023-03-13T07:39:44.481099Z",
     "shell.execute_reply": "2023-03-13T07:39:44.479878Z",
     "shell.execute_reply.started": "2023-03-13T07:39:44.473674Z"
    },
    "trusted": true
   },
   "outputs": [
    {
     "data": {
      "text/plain": [
       "array(['insgesamt', 'Verletzte und Getötete', 'mit Personenschäden'],\n",
       "      dtype=object)"
      ]
     },
     "execution_count": 1447,
     "metadata": {},
     "output_type": "execute_result"
    }
   ],
   "source": [
    "df[\"AUSPRÄGUNG\"].unique()"
   ]
  },
  {
   "cell_type": "code",
   "execution_count": 1448,
   "metadata": {
    "execution": {
     "iopub.execute_input": "2023-03-13T07:39:44.483019Z",
     "iopub.status.busy": "2023-03-13T07:39:44.482659Z",
     "iopub.status.idle": "2023-03-13T07:39:44.493948Z",
     "shell.execute_reply": "2023-03-13T07:39:44.492616Z",
     "shell.execute_reply.started": "2023-03-13T07:39:44.482984Z"
    },
    "trusted": true
   },
   "outputs": [
    {
     "data": {
      "text/plain": [
       "array(['Alkoholunfälle', 'Fluchtunfälle', 'Verkehrsunfälle'], dtype=object)"
      ]
     },
     "execution_count": 1448,
     "metadata": {},
     "output_type": "execute_result"
    }
   ],
   "source": [
    "df[\"MONATSZAHL\"].unique()"
   ]
  },
  {
   "cell_type": "code",
   "execution_count": 1449,
   "metadata": {
    "execution": {
     "iopub.execute_input": "2023-03-13T07:39:44.496568Z",
     "iopub.status.busy": "2023-03-13T07:39:44.495977Z",
     "iopub.status.idle": "2023-03-13T07:39:44.510188Z",
     "shell.execute_reply": "2023-03-13T07:39:44.508793Z",
     "shell.execute_reply.started": "2023-03-13T07:39:44.496518Z"
    },
    "trusted": true
   },
   "outputs": [
    {
     "data": {
      "text/html": [
       "<div>\n",
       "<style scoped>\n",
       "    .dataframe tbody tr th:only-of-type {\n",
       "        vertical-align: middle;\n",
       "    }\n",
       "\n",
       "    .dataframe tbody tr th {\n",
       "        vertical-align: top;\n",
       "    }\n",
       "\n",
       "    .dataframe thead th {\n",
       "        text-align: right;\n",
       "    }\n",
       "</style>\n",
       "<table border=\"1\" class=\"dataframe\">\n",
       "  <thead>\n",
       "    <tr style=\"text-align: right;\">\n",
       "      <th></th>\n",
       "      <th>MONAT</th>\n",
       "      <th>WERT</th>\n",
       "    </tr>\n",
       "  </thead>\n",
       "  <tbody>\n",
       "    <tr>\n",
       "      <th>25</th>\n",
       "      <td>Summe</td>\n",
       "      <td>430.0</td>\n",
       "    </tr>\n",
       "    <tr>\n",
       "      <th>26</th>\n",
       "      <td>202001</td>\n",
       "      <td>28.0</td>\n",
       "    </tr>\n",
       "    <tr>\n",
       "      <th>27</th>\n",
       "      <td>202002</td>\n",
       "      <td>40.0</td>\n",
       "    </tr>\n",
       "    <tr>\n",
       "      <th>28</th>\n",
       "      <td>202003</td>\n",
       "      <td>27.0</td>\n",
       "    </tr>\n",
       "    <tr>\n",
       "      <th>29</th>\n",
       "      <td>202004</td>\n",
       "      <td>26.0</td>\n",
       "    </tr>\n",
       "  </tbody>\n",
       "</table>\n",
       "</div>"
      ],
      "text/plain": [
       "     MONAT   WERT\n",
       "25   Summe  430.0\n",
       "26  202001   28.0\n",
       "27  202002   40.0\n",
       "28  202003   27.0\n",
       "29  202004   26.0"
      ]
     },
     "execution_count": 1449,
     "metadata": {},
     "output_type": "execute_result"
    }
   ],
   "source": [
    "# Creating new_df for statistical analysis\n",
    "new_df = df[['MONAT','WERT']]\n",
    "new_df.head()"
   ]
  },
  {
   "cell_type": "code",
   "execution_count": 1450,
   "metadata": {
    "execution": {
     "iopub.execute_input": "2023-03-13T07:39:44.511794Z",
     "iopub.status.busy": "2023-03-13T07:39:44.511451Z",
     "iopub.status.idle": "2023-03-13T07:39:44.517102Z",
     "shell.execute_reply": "2023-03-13T07:39:44.516179Z",
     "shell.execute_reply.started": "2023-03-13T07:39:44.511760Z"
    },
    "trusted": true
   },
   "outputs": [],
   "source": [
    "new_df = new_df.reset_index(drop=True)"
   ]
  },
  {
   "cell_type": "code",
   "execution_count": 1451,
   "metadata": {
    "execution": {
     "iopub.execute_input": "2023-03-13T07:39:44.518550Z",
     "iopub.status.busy": "2023-03-13T07:39:44.518200Z",
     "iopub.status.idle": "2023-03-13T07:39:44.533329Z",
     "shell.execute_reply": "2023-03-13T07:39:44.531975Z",
     "shell.execute_reply.started": "2023-03-13T07:39:44.518517Z"
    },
    "trusted": true
   },
   "outputs": [
    {
     "data": {
      "text/html": [
       "<div>\n",
       "<style scoped>\n",
       "    .dataframe tbody tr th:only-of-type {\n",
       "        vertical-align: middle;\n",
       "    }\n",
       "\n",
       "    .dataframe tbody tr th {\n",
       "        vertical-align: top;\n",
       "    }\n",
       "\n",
       "    .dataframe thead th {\n",
       "        text-align: right;\n",
       "    }\n",
       "</style>\n",
       "<table border=\"1\" class=\"dataframe\">\n",
       "  <thead>\n",
       "    <tr style=\"text-align: right;\">\n",
       "      <th></th>\n",
       "      <th>MONAT</th>\n",
       "      <th>WERT</th>\n",
       "    </tr>\n",
       "  </thead>\n",
       "  <tbody>\n",
       "    <tr>\n",
       "      <th>0</th>\n",
       "      <td>Summe</td>\n",
       "      <td>430.0</td>\n",
       "    </tr>\n",
       "    <tr>\n",
       "      <th>1</th>\n",
       "      <td>202001</td>\n",
       "      <td>28.0</td>\n",
       "    </tr>\n",
       "    <tr>\n",
       "      <th>2</th>\n",
       "      <td>202002</td>\n",
       "      <td>40.0</td>\n",
       "    </tr>\n",
       "    <tr>\n",
       "      <th>3</th>\n",
       "      <td>202003</td>\n",
       "      <td>27.0</td>\n",
       "    </tr>\n",
       "    <tr>\n",
       "      <th>4</th>\n",
       "      <td>202004</td>\n",
       "      <td>26.0</td>\n",
       "    </tr>\n",
       "  </tbody>\n",
       "</table>\n",
       "</div>"
      ],
      "text/plain": [
       "    MONAT   WERT\n",
       "0   Summe  430.0\n",
       "1  202001   28.0\n",
       "2  202002   40.0\n",
       "3  202003   27.0\n",
       "4  202004   26.0"
      ]
     },
     "execution_count": 1451,
     "metadata": {},
     "output_type": "execute_result"
    }
   ],
   "source": [
    "new_df.head()"
   ]
  },
  {
   "cell_type": "markdown",
   "metadata": {},
   "source": [
    "## EXploratory data analysis\n"
   ]
  },
  {
   "cell_type": "code",
   "execution_count": 1452,
   "metadata": {
    "execution": {
     "iopub.execute_input": "2023-03-13T07:39:44.535823Z",
     "iopub.status.busy": "2023-03-13T07:39:44.534949Z",
     "iopub.status.idle": "2023-03-13T07:39:44.544705Z",
     "shell.execute_reply": "2023-03-13T07:39:44.543417Z",
     "shell.execute_reply.started": "2023-03-13T07:39:44.535782Z"
    },
    "trusted": true
   },
   "outputs": [
    {
     "data": {
      "text/plain": [
       "'\\nCategory Types :\\nAlkoholunf√§lle -> 0\\nFluchtunf√§lle -> 1\\nVerkehrsunf√§lle -> 2\\n\\nAccident Types :\\ninsgesamt -> 0\\nmit Personensch√§den -> 1\\nVerletzte und Get√∂tete -> 2\\n'"
      ]
     },
     "execution_count": 1452,
     "metadata": {},
     "output_type": "execute_result"
    }
   ],
   "source": [
    "\"\"\"\n",
    "Category Types :\n",
    "Alkoholunf√§lle -> 0\n",
    "Fluchtunf√§lle -> 1\n",
    "Verkehrsunf√§lle -> 2\n",
    "\n",
    "Accident Types :\n",
    "insgesamt -> 0\n",
    "mit Personensch√§den -> 1\n",
    "Verletzte und Get√∂tete -> 2\n",
    "\"\"\""
   ]
  },
  {
   "cell_type": "code",
   "execution_count": 1453,
   "metadata": {
    "execution": {
     "iopub.execute_input": "2023-03-13T07:39:44.547339Z",
     "iopub.status.busy": "2023-03-13T07:39:44.546322Z",
     "iopub.status.idle": "2023-03-13T07:39:44.555876Z",
     "shell.execute_reply": "2023-03-13T07:39:44.554766Z",
     "shell.execute_reply.started": "2023-03-13T07:39:44.547287Z"
    },
    "trusted": true
   },
   "outputs": [
    {
     "data": {
      "text/plain": [
       "'\\nMONATSZAHL -> Category\\n\\nAUSPRÄGUNG -> Accident Type (insgesamt means total for all subcategories)\\n\\nJAHR -> Year\\n\\nMONAT -> Month\\n\\nWERT -> Value\\n\\n'"
      ]
     },
     "execution_count": 1453,
     "metadata": {},
     "output_type": "execute_result"
    }
   ],
   "source": [
    "\"\"\"\n",
    "MONATSZAHL -> Category\n",
    "\n",
    "AUSPRÄGUNG -> Accident Type (insgesamt means total for all subcategories)\n",
    "\n",
    "JAHR -> Year\n",
    "\n",
    "MONAT -> Month\n",
    "\n",
    "WERT -> Value\n",
    "\n",
    "\"\"\""
   ]
  },
  {
   "cell_type": "code",
   "execution_count": 1454,
   "metadata": {
    "execution": {
     "iopub.execute_input": "2023-03-13T07:39:44.558883Z",
     "iopub.status.busy": "2023-03-13T07:39:44.557374Z",
     "iopub.status.idle": "2023-03-13T07:39:46.225553Z",
     "shell.execute_reply": "2023-03-13T07:39:46.224369Z",
     "shell.execute_reply.started": "2023-03-13T07:39:44.558828Z"
    },
    "trusted": true
   },
   "outputs": [
    {
     "name": "stdout",
     "output_type": "stream",
     "text": [
      "         MONATSZAHL AUSPRÄGUNG  JAHR  MONAT   WERT\n",
      "25   Alkoholunfälle  insgesamt  2020  Summe  430.0\n",
      "38   Alkoholunfälle  insgesamt  2019  Summe  434.0\n",
      "51   Alkoholunfälle  insgesamt  2018  Summe  398.0\n",
      "64   Alkoholunfälle  insgesamt  2017  Summe  409.0\n",
      "77   Alkoholunfälle  insgesamt  2016  Summe  301.0\n",
      "90   Alkoholunfälle  insgesamt  2015  Summe  411.0\n",
      "103  Alkoholunfälle  insgesamt  2014  Summe  382.0\n",
      "116  Alkoholunfälle  insgesamt  2013  Summe  377.0\n",
      "129  Alkoholunfälle  insgesamt  2012  Summe  440.0\n",
      "142  Alkoholunfälle  insgesamt  2011  Summe  397.0\n",
      "155  Alkoholunfälle  insgesamt  2010  Summe  402.0\n",
      "168  Alkoholunfälle  insgesamt  2009  Summe  430.0\n",
      "181  Alkoholunfälle  insgesamt  2008  Summe  482.0\n",
      "194  Alkoholunfälle  insgesamt  2007  Summe  560.0\n",
      "207  Alkoholunfälle  insgesamt  2006  Summe  599.0\n",
      "220  Alkoholunfälle  insgesamt  2005  Summe  600.0\n",
      "233  Alkoholunfälle  insgesamt  2004  Summe  659.0\n",
      "246  Alkoholunfälle  insgesamt  2003  Summe  730.0\n",
      "259  Alkoholunfälle  insgesamt  2002  Summe  803.0\n",
      "272  Alkoholunfälle  insgesamt  2001  Summe  848.0\n",
      "285  Alkoholunfälle  insgesamt  2000  Summe  934.0\n"
     ]
    },
    {
     "data": {
      "image/png": "[encoded data removed]",
      "text/plain": [
       "<Figure size 648x432 with 1 Axes>"
      ]
     },
     "metadata": {},
     "output_type": "display_data"
    },
    {
     "data": {
      "image/png": "[encoded data removed]",
      "text/plain": [
       "<Figure size 648x432 with 1 Axes>"
      ]
     },
     "metadata": {},
     "output_type": "display_data"
    },
    {
     "data": {
      "image/png": "[encoded data removed]",
      "text/plain": [
       "<Figure size 648x432 with 1 Axes>"
      ]
     },
     "metadata": {},
     "output_type": "display_data"
    },
    {
     "data": {
      "image/png": "[encoded data removed]",
      "text/plain": [
       "<Figure size 648x432 with 1 Axes>"
      ]
     },
     "metadata": {},
     "output_type": "display_data"
    }
   ],
   "source": [
    "# Data Visualization\n",
    "\n",
    "accidents = df[df['JAHR'] < 2021]\n",
    "\n",
    "Verkehrsunfälle = accidents[(\n",
    "    (accidents['MONATSZAHL'] == 'Verkehrsunfälle') &\n",
    "    (accidents['MONAT'] == 'Summe') &\n",
    "    (accidents['AUSPRÄGUNG'] == 'insgesamt')\n",
    "    )]\n",
    "Fluchtunfälle = accidents[(\n",
    "    (accidents['MONATSZAHL'] == 'Fluchtunfälle') &\n",
    "    (accidents['MONAT'] == 'Summe') &\n",
    "    (accidents['AUSPRÄGUNG'] == 'insgesamt')\n",
    "    )]\n",
    "Alkoholunfälle = accidents[(\n",
    "    (accidents['MONATSZAHL'] == 'Alkoholunfälle') &\n",
    "    (accidents['MONAT'] == 'Summe') &\n",
    "    (accidents['AUSPRÄGUNG'] == 'insgesamt')\n",
    "    )]\n",
    "print(Alkoholunfälle)\n",
    "years = [i for i in range(2000, 2021)]\n",
    "years.sort(reverse=True)\n",
    "\n",
    "accidents_category = pd.DataFrame({\n",
    "        \"Verkehrsunfälle\": Verkehrsunfälle['WERT'].to_numpy(),\n",
    "        \"Fluchtunfälle\": Fluchtunfälle['WERT'].to_numpy(),\n",
    "        \"Alkoholunfälle\": Alkoholunfälle['WERT'].to_numpy()\n",
    "    },\n",
    "    index= years\n",
    ")\n",
    "\n",
    "accidents_category.plot(kind='area',colormap='Accent',)\n",
    "plt.gcf().set_size_inches(9,6)\n",
    "accidents_category.plot(kind='bar', colormap='Accent', stacked= True)\n",
    "plt.gcf().set_size_inches(9,6)\n",
    "accidents_category.plot(kind='bar', colormap='Accent')\n",
    "plt.gcf().set_size_inches(9,6)\n",
    "accidents_category.plot(colormap='Accent')\n",
    "plt.gcf().set_size_inches(9,6)"
   ]
  },
  {
   "cell_type": "code",
   "execution_count": 1455,
   "metadata": {
    "execution": {
     "iopub.execute_input": "2023-03-13T07:39:46.230401Z",
     "iopub.status.busy": "2023-03-13T07:39:46.226944Z",
     "iopub.status.idle": "2023-03-13T07:39:46.237096Z",
     "shell.execute_reply": "2023-03-13T07:39:46.235860Z",
     "shell.execute_reply.started": "2023-03-13T07:39:46.230356Z"
    },
    "trusted": true
   },
   "outputs": [],
   "source": [
    "# # Remove the 'Summe' from Month column \n",
    "# df = df[df['MONAT'] != 'Summe']\n",
    "\n",
    "# Monat has only 147 summe so removing them\n",
    "lst = ['Summe']\n",
    "df = df[df.MONAT.isin(lst) == False]"
   ]
  },
  {
   "cell_type": "code",
   "execution_count": 1456,
   "metadata": {
    "execution": {
     "iopub.execute_input": "2023-03-13T07:39:46.238995Z",
     "iopub.status.busy": "2023-03-13T07:39:46.238647Z",
     "iopub.status.idle": "2023-03-13T07:39:46.842916Z",
     "shell.execute_reply": "2023-03-13T07:39:46.841634Z",
     "shell.execute_reply.started": "2023-03-13T07:39:46.238960Z"
    },
    "trusted": true
   },
   "outputs": [
    {
     "data": {
      "image/png": "[encoded data removed]",
      "text/plain": [
       "<Figure size 648x432 with 1 Axes>"
      ]
     },
     "metadata": {},
     "output_type": "display_data"
    },
    {
     "data": {
      "image/png": "[encoded data removed]",
      "text/plain": [
       "<Figure size 648x432 with 1 Axes>"
      ]
     },
     "metadata": {},
     "output_type": "display_data"
    }
   ],
   "source": [
    "# Plot Number of accidents per category\n",
    "plot = sns.catplot(x=\"MONATSZAHL\", kind=\"count\", data=df, palette=\"Accent\")\n",
    "plt.title('Number of accidents per category')\n",
    "plt.gcf().set_size_inches(9,6)\n",
    "\n",
    "# Plot Number of accidents per Accident Type\n",
    "plot = sns.catplot(x=\"AUSPRÄGUNG\", kind=\"count\", data=df, palette=\"Accent\")\n",
    "plt.title('Number of accidents per Accident Type')\n",
    "plt.gcf().set_size_inches(9,6)"
   ]
  },
  {
   "cell_type": "code",
   "execution_count": 1457,
   "metadata": {
    "execution": {
     "iopub.execute_input": "2023-03-13T07:39:46.844986Z",
     "iopub.status.busy": "2023-03-13T07:39:46.844519Z",
     "iopub.status.idle": "2023-03-13T07:39:46.859087Z",
     "shell.execute_reply": "2023-03-13T07:39:46.857743Z",
     "shell.execute_reply.started": "2023-03-13T07:39:46.844940Z"
    },
    "trusted": true
   },
   "outputs": [
    {
     "data": {
      "text/html": [
       "<div>\n",
       "<style scoped>\n",
       "    .dataframe tbody tr th:only-of-type {\n",
       "        vertical-align: middle;\n",
       "    }\n",
       "\n",
       "    .dataframe tbody tr th {\n",
       "        vertical-align: top;\n",
       "    }\n",
       "\n",
       "    .dataframe thead th {\n",
       "        text-align: right;\n",
       "    }\n",
       "</style>\n",
       "<table border=\"1\" class=\"dataframe\">\n",
       "  <thead>\n",
       "    <tr style=\"text-align: right;\">\n",
       "      <th></th>\n",
       "      <th>MONATSZAHL</th>\n",
       "      <th>AUSPRÄGUNG</th>\n",
       "      <th>JAHR</th>\n",
       "      <th>MONAT</th>\n",
       "      <th>WERT</th>\n",
       "    </tr>\n",
       "  </thead>\n",
       "  <tbody>\n",
       "    <tr>\n",
       "      <th>26</th>\n",
       "      <td>Alkoholunfälle</td>\n",
       "      <td>insgesamt</td>\n",
       "      <td>2020</td>\n",
       "      <td>202001</td>\n",
       "      <td>28.0</td>\n",
       "    </tr>\n",
       "    <tr>\n",
       "      <th>27</th>\n",
       "      <td>Alkoholunfälle</td>\n",
       "      <td>insgesamt</td>\n",
       "      <td>2020</td>\n",
       "      <td>202002</td>\n",
       "      <td>40.0</td>\n",
       "    </tr>\n",
       "    <tr>\n",
       "      <th>28</th>\n",
       "      <td>Alkoholunfälle</td>\n",
       "      <td>insgesamt</td>\n",
       "      <td>2020</td>\n",
       "      <td>202003</td>\n",
       "      <td>27.0</td>\n",
       "    </tr>\n",
       "    <tr>\n",
       "      <th>29</th>\n",
       "      <td>Alkoholunfälle</td>\n",
       "      <td>insgesamt</td>\n",
       "      <td>2020</td>\n",
       "      <td>202004</td>\n",
       "      <td>26.0</td>\n",
       "    </tr>\n",
       "    <tr>\n",
       "      <th>30</th>\n",
       "      <td>Alkoholunfälle</td>\n",
       "      <td>insgesamt</td>\n",
       "      <td>2020</td>\n",
       "      <td>202005</td>\n",
       "      <td>40.0</td>\n",
       "    </tr>\n",
       "    <tr>\n",
       "      <th>...</th>\n",
       "      <td>...</td>\n",
       "      <td>...</td>\n",
       "      <td>...</td>\n",
       "      <td>...</td>\n",
       "      <td>...</td>\n",
       "    </tr>\n",
       "    <tr>\n",
       "      <th>2081</th>\n",
       "      <td>Verkehrsunfälle</td>\n",
       "      <td>Verletzte und Getötete</td>\n",
       "      <td>2000</td>\n",
       "      <td>200008</td>\n",
       "      <td>647.0</td>\n",
       "    </tr>\n",
       "    <tr>\n",
       "      <th>2082</th>\n",
       "      <td>Verkehrsunfälle</td>\n",
       "      <td>Verletzte und Getötete</td>\n",
       "      <td>2000</td>\n",
       "      <td>200009</td>\n",
       "      <td>675.0</td>\n",
       "    </tr>\n",
       "    <tr>\n",
       "      <th>2083</th>\n",
       "      <td>Verkehrsunfälle</td>\n",
       "      <td>Verletzte und Getötete</td>\n",
       "      <td>2000</td>\n",
       "      <td>200010</td>\n",
       "      <td>615.0</td>\n",
       "    </tr>\n",
       "    <tr>\n",
       "      <th>2084</th>\n",
       "      <td>Verkehrsunfälle</td>\n",
       "      <td>Verletzte und Getötete</td>\n",
       "      <td>2000</td>\n",
       "      <td>200011</td>\n",
       "      <td>578.0</td>\n",
       "    </tr>\n",
       "    <tr>\n",
       "      <th>2085</th>\n",
       "      <td>Verkehrsunfälle</td>\n",
       "      <td>Verletzte und Getötete</td>\n",
       "      <td>2000</td>\n",
       "      <td>200012</td>\n",
       "      <td>515.0</td>\n",
       "    </tr>\n",
       "  </tbody>\n",
       "</table>\n",
       "<p>1764 rows × 5 columns</p>\n",
       "</div>"
      ],
      "text/plain": [
       "           MONATSZAHL              AUSPRÄGUNG  JAHR   MONAT   WERT\n",
       "26     Alkoholunfälle               insgesamt  2020  202001   28.0\n",
       "27     Alkoholunfälle               insgesamt  2020  202002   40.0\n",
       "28     Alkoholunfälle               insgesamt  2020  202003   27.0\n",
       "29     Alkoholunfälle               insgesamt  2020  202004   26.0\n",
       "30     Alkoholunfälle               insgesamt  2020  202005   40.0\n",
       "...               ...                     ...   ...     ...    ...\n",
       "2081  Verkehrsunfälle  Verletzte und Getötete  2000  200008  647.0\n",
       "2082  Verkehrsunfälle  Verletzte und Getötete  2000  200009  675.0\n",
       "2083  Verkehrsunfälle  Verletzte und Getötete  2000  200010  615.0\n",
       "2084  Verkehrsunfälle  Verletzte und Getötete  2000  200011  578.0\n",
       "2085  Verkehrsunfälle  Verletzte und Getötete  2000  200012  515.0\n",
       "\n",
       "[1764 rows x 5 columns]"
      ]
     },
     "execution_count": 1457,
     "metadata": {},
     "output_type": "execute_result"
    }
   ],
   "source": [
    "df"
   ]
  },
  {
   "cell_type": "code",
   "execution_count": 1458,
   "metadata": {
    "execution": {
     "iopub.execute_input": "2023-03-13T07:39:46.861477Z",
     "iopub.status.busy": "2023-03-13T07:39:46.860934Z",
     "iopub.status.idle": "2023-03-13T07:39:46.870346Z",
     "shell.execute_reply": "2023-03-13T07:39:46.868966Z",
     "shell.execute_reply.started": "2023-03-13T07:39:46.861437Z"
    },
    "trusted": true
   },
   "outputs": [
    {
     "data": {
      "text/plain": [
       "(1764, 5)"
      ]
     },
     "execution_count": 1458,
     "metadata": {},
     "output_type": "execute_result"
    }
   ],
   "source": [
    "df.shape"
   ]
  },
  {
   "cell_type": "code",
   "execution_count": 1459,
   "metadata": {
    "execution": {
     "iopub.execute_input": "2023-03-13T07:39:46.872903Z",
     "iopub.status.busy": "2023-03-13T07:39:46.872410Z",
     "iopub.status.idle": "2023-03-13T07:39:46.881388Z",
     "shell.execute_reply": "2023-03-13T07:39:46.880182Z",
     "shell.execute_reply.started": "2023-03-13T07:39:46.872854Z"
    },
    "trusted": true
   },
   "outputs": [],
   "source": [
    "df = df.reset_index()"
   ]
  },
  {
   "cell_type": "code",
   "execution_count": 1460,
   "metadata": {
    "execution": {
     "iopub.execute_input": "2023-03-13T07:39:46.897262Z",
     "iopub.status.busy": "2023-03-13T07:39:46.896088Z",
     "iopub.status.idle": "2023-03-13T07:39:46.903827Z",
     "shell.execute_reply": "2023-03-13T07:39:46.902330Z",
     "shell.execute_reply.started": "2023-03-13T07:39:46.897207Z"
    },
    "trusted": true
   },
   "outputs": [],
   "source": [
    "# def func(x):\n",
    "#     return int(x[-2:])"
   ]
  },
  {
   "cell_type": "code",
   "execution_count": 1461,
   "metadata": {
    "execution": {
     "iopub.execute_input": "2023-03-13T07:39:46.906373Z",
     "iopub.status.busy": "2023-03-13T07:39:46.905212Z",
     "iopub.status.idle": "2023-03-13T07:39:46.921146Z",
     "shell.execute_reply": "2023-03-13T07:39:46.919983Z",
     "shell.execute_reply.started": "2023-03-13T07:39:46.906336Z"
    },
    "trusted": true
   },
   "outputs": [
    {
     "data": {
      "text/html": [
       "<div>\n",
       "<style scoped>\n",
       "    .dataframe tbody tr th:only-of-type {\n",
       "        vertical-align: middle;\n",
       "    }\n",
       "\n",
       "    .dataframe tbody tr th {\n",
       "        vertical-align: top;\n",
       "    }\n",
       "\n",
       "    .dataframe thead th {\n",
       "        text-align: right;\n",
       "    }\n",
       "</style>\n",
       "<table border=\"1\" class=\"dataframe\">\n",
       "  <thead>\n",
       "    <tr style=\"text-align: right;\">\n",
       "      <th></th>\n",
       "      <th>index</th>\n",
       "      <th>MONATSZAHL</th>\n",
       "      <th>AUSPRÄGUNG</th>\n",
       "      <th>JAHR</th>\n",
       "      <th>MONAT</th>\n",
       "      <th>WERT</th>\n",
       "    </tr>\n",
       "  </thead>\n",
       "  <tbody>\n",
       "    <tr>\n",
       "      <th>0</th>\n",
       "      <td>26</td>\n",
       "      <td>Alkoholunfälle</td>\n",
       "      <td>insgesamt</td>\n",
       "      <td>2020</td>\n",
       "      <td>202001</td>\n",
       "      <td>28.0</td>\n",
       "    </tr>\n",
       "    <tr>\n",
       "      <th>1</th>\n",
       "      <td>27</td>\n",
       "      <td>Alkoholunfälle</td>\n",
       "      <td>insgesamt</td>\n",
       "      <td>2020</td>\n",
       "      <td>202002</td>\n",
       "      <td>40.0</td>\n",
       "    </tr>\n",
       "    <tr>\n",
       "      <th>2</th>\n",
       "      <td>28</td>\n",
       "      <td>Alkoholunfälle</td>\n",
       "      <td>insgesamt</td>\n",
       "      <td>2020</td>\n",
       "      <td>202003</td>\n",
       "      <td>27.0</td>\n",
       "    </tr>\n",
       "    <tr>\n",
       "      <th>3</th>\n",
       "      <td>29</td>\n",
       "      <td>Alkoholunfälle</td>\n",
       "      <td>insgesamt</td>\n",
       "      <td>2020</td>\n",
       "      <td>202004</td>\n",
       "      <td>26.0</td>\n",
       "    </tr>\n",
       "    <tr>\n",
       "      <th>4</th>\n",
       "      <td>30</td>\n",
       "      <td>Alkoholunfälle</td>\n",
       "      <td>insgesamt</td>\n",
       "      <td>2020</td>\n",
       "      <td>202005</td>\n",
       "      <td>40.0</td>\n",
       "    </tr>\n",
       "  </tbody>\n",
       "</table>\n",
       "</div>"
      ],
      "text/plain": [
       "   index      MONATSZAHL AUSPRÄGUNG  JAHR   MONAT  WERT\n",
       "0     26  Alkoholunfälle  insgesamt  2020  202001  28.0\n",
       "1     27  Alkoholunfälle  insgesamt  2020  202002  40.0\n",
       "2     28  Alkoholunfälle  insgesamt  2020  202003  27.0\n",
       "3     29  Alkoholunfälle  insgesamt  2020  202004  26.0\n",
       "4     30  Alkoholunfälle  insgesamt  2020  202005  40.0"
      ]
     },
     "execution_count": 1461,
     "metadata": {},
     "output_type": "execute_result"
    }
   ],
   "source": [
    "df_final = df\n",
    "df_final.head()"
   ]
  },
  {
   "cell_type": "code",
   "execution_count": 1462,
   "metadata": {},
   "outputs": [],
   "source": [
    "from datetime import datetime\n",
    "def func1(date_str):\n",
    "    date_obj = datetime.strptime(date_str, '%Y%m')\n",
    "    return date_obj.strftime('%Y-%m-%d')"
   ]
  },
  {
   "cell_type": "code",
   "execution_count": 1463,
   "metadata": {
    "execution": {
     "iopub.execute_input": "2023-03-13T07:39:46.951617Z",
     "iopub.status.busy": "2023-03-13T07:39:46.951230Z",
     "iopub.status.idle": "2023-03-13T07:39:46.958513Z",
     "shell.execute_reply": "2023-03-13T07:39:46.957145Z",
     "shell.execute_reply.started": "2023-03-13T07:39:46.951584Z"
    },
    "trusted": true
   },
   "outputs": [],
   "source": [
    "df_final['MONAT'] = df_final['MONAT'].apply(func1)"
   ]
  },
  {
   "cell_type": "code",
   "execution_count": 1464,
   "metadata": {},
   "outputs": [],
   "source": [
    "def func2(date_str):\n",
    "    return datetime.strptime(date_str, '%Y-%m-%d')"
   ]
  },
  {
   "cell_type": "code",
   "execution_count": 1465,
   "metadata": {},
   "outputs": [],
   "source": [
    "df_final['MONAT'] = df_final['MONAT'].apply(func2)"
   ]
  },
  {
   "cell_type": "code",
   "execution_count": 1466,
   "metadata": {},
   "outputs": [
    {
     "data": {
      "text/html": [
       "<div>\n",
       "<style scoped>\n",
       "    .dataframe tbody tr th:only-of-type {\n",
       "        vertical-align: middle;\n",
       "    }\n",
       "\n",
       "    .dataframe tbody tr th {\n",
       "        vertical-align: top;\n",
       "    }\n",
       "\n",
       "    .dataframe thead th {\n",
       "        text-align: right;\n",
       "    }\n",
       "</style>\n",
       "<table border=\"1\" class=\"dataframe\">\n",
       "  <thead>\n",
       "    <tr style=\"text-align: right;\">\n",
       "      <th></th>\n",
       "      <th>index</th>\n",
       "      <th>MONATSZAHL</th>\n",
       "      <th>AUSPRÄGUNG</th>\n",
       "      <th>JAHR</th>\n",
       "      <th>MONAT</th>\n",
       "      <th>WERT</th>\n",
       "    </tr>\n",
       "  </thead>\n",
       "  <tbody>\n",
       "    <tr>\n",
       "      <th>0</th>\n",
       "      <td>26</td>\n",
       "      <td>Alkoholunfälle</td>\n",
       "      <td>insgesamt</td>\n",
       "      <td>2020</td>\n",
       "      <td>2020-01-01</td>\n",
       "      <td>28.0</td>\n",
       "    </tr>\n",
       "    <tr>\n",
       "      <th>1</th>\n",
       "      <td>27</td>\n",
       "      <td>Alkoholunfälle</td>\n",
       "      <td>insgesamt</td>\n",
       "      <td>2020</td>\n",
       "      <td>2020-02-01</td>\n",
       "      <td>40.0</td>\n",
       "    </tr>\n",
       "    <tr>\n",
       "      <th>2</th>\n",
       "      <td>28</td>\n",
       "      <td>Alkoholunfälle</td>\n",
       "      <td>insgesamt</td>\n",
       "      <td>2020</td>\n",
       "      <td>2020-03-01</td>\n",
       "      <td>27.0</td>\n",
       "    </tr>\n",
       "    <tr>\n",
       "      <th>3</th>\n",
       "      <td>29</td>\n",
       "      <td>Alkoholunfälle</td>\n",
       "      <td>insgesamt</td>\n",
       "      <td>2020</td>\n",
       "      <td>2020-04-01</td>\n",
       "      <td>26.0</td>\n",
       "    </tr>\n",
       "    <tr>\n",
       "      <th>4</th>\n",
       "      <td>30</td>\n",
       "      <td>Alkoholunfälle</td>\n",
       "      <td>insgesamt</td>\n",
       "      <td>2020</td>\n",
       "      <td>2020-05-01</td>\n",
       "      <td>40.0</td>\n",
       "    </tr>\n",
       "  </tbody>\n",
       "</table>\n",
       "</div>"
      ],
      "text/plain": [
       "   index      MONATSZAHL AUSPRÄGUNG  JAHR      MONAT  WERT\n",
       "0     26  Alkoholunfälle  insgesamt  2020 2020-01-01  28.0\n",
       "1     27  Alkoholunfälle  insgesamt  2020 2020-02-01  40.0\n",
       "2     28  Alkoholunfälle  insgesamt  2020 2020-03-01  27.0\n",
       "3     29  Alkoholunfälle  insgesamt  2020 2020-04-01  26.0\n",
       "4     30  Alkoholunfälle  insgesamt  2020 2020-05-01  40.0"
      ]
     },
     "execution_count": 1466,
     "metadata": {},
     "output_type": "execute_result"
    }
   ],
   "source": [
    "df_final.head()"
   ]
  },
  {
   "cell_type": "code",
   "execution_count": 1467,
   "metadata": {},
   "outputs": [],
   "source": [
    "import pandas as pd\n",
    "import seaborn as sns"
   ]
  },
  {
   "cell_type": "code",
   "execution_count": 1468,
   "metadata": {
    "execution": {
     "iopub.execute_input": "2023-03-13T07:39:46.979076Z",
     "iopub.status.busy": "2023-03-13T07:39:46.978025Z",
     "iopub.status.idle": "2023-03-13T07:39:46.996494Z",
     "shell.execute_reply": "2023-03-13T07:39:46.995444Z",
     "shell.execute_reply.started": "2023-03-13T07:39:46.979036Z"
    },
    "trusted": true
   },
   "outputs": [
    {
     "data": {
      "text/html": [
       "<div>\n",
       "<style scoped>\n",
       "    .dataframe tbody tr th:only-of-type {\n",
       "        vertical-align: middle;\n",
       "    }\n",
       "\n",
       "    .dataframe tbody tr th {\n",
       "        vertical-align: top;\n",
       "    }\n",
       "\n",
       "    .dataframe thead th {\n",
       "        text-align: right;\n",
       "    }\n",
       "</style>\n",
       "<table border=\"1\" class=\"dataframe\">\n",
       "  <thead>\n",
       "    <tr style=\"text-align: right;\">\n",
       "      <th></th>\n",
       "      <th>index</th>\n",
       "      <th>MONATSZAHL</th>\n",
       "      <th>AUSPRÄGUNG</th>\n",
       "      <th>JAHR</th>\n",
       "      <th>MONAT</th>\n",
       "      <th>WERT</th>\n",
       "    </tr>\n",
       "  </thead>\n",
       "  <tbody>\n",
       "    <tr>\n",
       "      <th>1759</th>\n",
       "      <td>2081</td>\n",
       "      <td>Verkehrsunfälle</td>\n",
       "      <td>Verletzte und Getötete</td>\n",
       "      <td>2000</td>\n",
       "      <td>2000-08-01</td>\n",
       "      <td>647.0</td>\n",
       "    </tr>\n",
       "    <tr>\n",
       "      <th>1760</th>\n",
       "      <td>2082</td>\n",
       "      <td>Verkehrsunfälle</td>\n",
       "      <td>Verletzte und Getötete</td>\n",
       "      <td>2000</td>\n",
       "      <td>2000-09-01</td>\n",
       "      <td>675.0</td>\n",
       "    </tr>\n",
       "    <tr>\n",
       "      <th>1761</th>\n",
       "      <td>2083</td>\n",
       "      <td>Verkehrsunfälle</td>\n",
       "      <td>Verletzte und Getötete</td>\n",
       "      <td>2000</td>\n",
       "      <td>2000-10-01</td>\n",
       "      <td>615.0</td>\n",
       "    </tr>\n",
       "    <tr>\n",
       "      <th>1762</th>\n",
       "      <td>2084</td>\n",
       "      <td>Verkehrsunfälle</td>\n",
       "      <td>Verletzte und Getötete</td>\n",
       "      <td>2000</td>\n",
       "      <td>2000-11-01</td>\n",
       "      <td>578.0</td>\n",
       "    </tr>\n",
       "    <tr>\n",
       "      <th>1763</th>\n",
       "      <td>2085</td>\n",
       "      <td>Verkehrsunfälle</td>\n",
       "      <td>Verletzte und Getötete</td>\n",
       "      <td>2000</td>\n",
       "      <td>2000-12-01</td>\n",
       "      <td>515.0</td>\n",
       "    </tr>\n",
       "  </tbody>\n",
       "</table>\n",
       "</div>"
      ],
      "text/plain": [
       "      index       MONATSZAHL              AUSPRÄGUNG  JAHR      MONAT   WERT\n",
       "1759   2081  Verkehrsunfälle  Verletzte und Getötete  2000 2000-08-01  647.0\n",
       "1760   2082  Verkehrsunfälle  Verletzte und Getötete  2000 2000-09-01  675.0\n",
       "1761   2083  Verkehrsunfälle  Verletzte und Getötete  2000 2000-10-01  615.0\n",
       "1762   2084  Verkehrsunfälle  Verletzte und Getötete  2000 2000-11-01  578.0\n",
       "1763   2085  Verkehrsunfälle  Verletzte und Getötete  2000 2000-12-01  515.0"
      ]
     },
     "execution_count": 1468,
     "metadata": {},
     "output_type": "execute_result"
    }
   ],
   "source": [
    "df.tail()"
   ]
  },
  {
   "cell_type": "code",
   "execution_count": 1469,
   "metadata": {},
   "outputs": [],
   "source": [
    "df_meta = df_final"
   ]
  },
  {
   "cell_type": "code",
   "execution_count": 1470,
   "metadata": {},
   "outputs": [
    {
     "data": {
      "text/html": [
       "<div>\n",
       "<style scoped>\n",
       "    .dataframe tbody tr th:only-of-type {\n",
       "        vertical-align: middle;\n",
       "    }\n",
       "\n",
       "    .dataframe tbody tr th {\n",
       "        vertical-align: top;\n",
       "    }\n",
       "\n",
       "    .dataframe thead th {\n",
       "        text-align: right;\n",
       "    }\n",
       "</style>\n",
       "<table border=\"1\" class=\"dataframe\">\n",
       "  <thead>\n",
       "    <tr style=\"text-align: right;\">\n",
       "      <th></th>\n",
       "      <th>index</th>\n",
       "      <th>MONATSZAHL</th>\n",
       "      <th>AUSPRÄGUNG</th>\n",
       "      <th>JAHR</th>\n",
       "      <th>MONAT</th>\n",
       "      <th>WERT</th>\n",
       "    </tr>\n",
       "  </thead>\n",
       "  <tbody>\n",
       "    <tr>\n",
       "      <th>240</th>\n",
       "      <td>286</td>\n",
       "      <td>Alkoholunfälle</td>\n",
       "      <td>insgesamt</td>\n",
       "      <td>2000</td>\n",
       "      <td>2000-01-01</td>\n",
       "      <td>78.0</td>\n",
       "    </tr>\n",
       "    <tr>\n",
       "      <th>744</th>\n",
       "      <td>882</td>\n",
       "      <td>Fluchtunfälle</td>\n",
       "      <td>insgesamt</td>\n",
       "      <td>2000</td>\n",
       "      <td>2000-01-01</td>\n",
       "      <td>835.0</td>\n",
       "    </tr>\n",
       "    <tr>\n",
       "      <th>1248</th>\n",
       "      <td>1478</td>\n",
       "      <td>Verkehrsunfälle</td>\n",
       "      <td>insgesamt</td>\n",
       "      <td>2000</td>\n",
       "      <td>2000-01-01</td>\n",
       "      <td>3448.0</td>\n",
       "    </tr>\n",
       "    <tr>\n",
       "      <th>241</th>\n",
       "      <td>287</td>\n",
       "      <td>Alkoholunfälle</td>\n",
       "      <td>insgesamt</td>\n",
       "      <td>2000</td>\n",
       "      <td>2000-02-01</td>\n",
       "      <td>53.0</td>\n",
       "    </tr>\n",
       "    <tr>\n",
       "      <th>745</th>\n",
       "      <td>883</td>\n",
       "      <td>Fluchtunfälle</td>\n",
       "      <td>insgesamt</td>\n",
       "      <td>2000</td>\n",
       "      <td>2000-02-01</td>\n",
       "      <td>890.0</td>\n",
       "    </tr>\n",
       "  </tbody>\n",
       "</table>\n",
       "</div>"
      ],
      "text/plain": [
       "      index       MONATSZAHL AUSPRÄGUNG  JAHR      MONAT    WERT\n",
       "240     286   Alkoholunfälle  insgesamt  2000 2000-01-01    78.0\n",
       "744     882    Fluchtunfälle  insgesamt  2000 2000-01-01   835.0\n",
       "1248   1478  Verkehrsunfälle  insgesamt  2000 2000-01-01  3448.0\n",
       "241     287   Alkoholunfälle  insgesamt  2000 2000-02-01    53.0\n",
       "745     883    Fluchtunfälle  insgesamt  2000 2000-02-01   890.0"
      ]
     },
     "execution_count": 1470,
     "metadata": {},
     "output_type": "execute_result"
    }
   ],
   "source": [
    "# Changing the non-numeric objects into integers\n",
    "\n",
    "# df_meta[\"MONAT\"] = pd.to_numeric(df_meta[\"MONAT\"])\n",
    "\n",
    "# Changing the non-string objects into strings to be able to filter the df_meta\n",
    "\n",
    "df_meta[['MONATSZAHL', 'AUSPRÄGUNG']] = df_meta[['MONATSZAHL', 'AUSPRÄGUNG']].astype(pd.StringDtype()) \n",
    "\n",
    "df_meta = df_meta.sort_values(by ='MONAT' , ascending=True) # Sort values by time\n",
    "\n",
    "# Setting Accident Type as \"insgesamt\"\n",
    "\n",
    "df_meta = df_meta.loc[(df_meta['AUSPRÄGUNG'] == 'insgesamt')]\n",
    "\n",
    "df_meta.head()"
   ]
  },
  {
   "cell_type": "code",
   "execution_count": 1471,
   "metadata": {},
   "outputs": [],
   "source": [
    "# Creating df for 'Alkoholunfälle' which means \"alcohol accidents\"\n",
    "\n",
    "df_alk = df_meta.loc[(df_meta['MONATSZAHL'] == 'Alkoholunfälle')]\n",
    "\n",
    "# Creating df for 'Fluchtunfälle' which means \"escape accidents\"\n",
    "\n",
    "df_flucht = df_meta.loc[(df_meta['MONATSZAHL'] == 'Fluchtunfälle')]\n",
    "\n",
    "# Creating df for 'Verkehrsunfälle' which means \"traffic accidents\"\n",
    "\n",
    "df_verkehr = df_meta.loc[(df_meta['MONATSZAHL'] == 'Verkehrsunfälle')]"
   ]
  },
  {
   "attachments": {},
   "cell_type": "markdown",
   "metadata": {},
   "source": [
    "## Generating trends\n"
   ]
  },
  {
   "cell_type": "code",
   "execution_count": 1472,
   "metadata": {},
   "outputs": [],
   "source": [
    "def generate_historical_trends(df, cat_name):\n",
    "    df = df[['MONAT','WERT']]\n",
    "\n",
    "    # Add columns for year and month\n",
    "    df['Year'] = df['MONAT'].dt.year\n",
    "    df['Month'] = df['MONAT'].dt.month\n",
    "    df['day'] = df['MONAT'].dt.day\n",
    "\n",
    "    # Group by year and month, and calculate the mean value for each group\n",
    "    monthly_means = df.groupby(['Year', 'Month'])['WERT'].mean().reset_index()\n",
    "\n",
    "    # Convert year and month to a single date column\n",
    "    monthly_means['MONAT'] = pd.to_datetime(monthly_means[['Year', 'Month']].assign(day=1))\n",
    "\n",
    "    # Create the line plot using Seaborn\n",
    "    sns.set_style('whitegrid')\n",
    "    sns.lineplot(x='MONAT', y='WERT', data=monthly_means)\n",
    "\n",
    "    # Save the plot to a file\n",
    "    name = \"./\" + cat_name + \".png\"\n",
    "    print(name)\n",
    "\n",
    "    # plt.figure(figsize=(12, 8))\n",
    "\n",
    "    plt.savefig(name,dpi=200)"
   ]
  },
  {
   "cell_type": "code",
   "execution_count": 1473,
   "metadata": {
    "execution": {
     "iopub.execute_input": "2023-03-13T07:39:47.052269Z",
     "iopub.status.busy": "2023-03-13T07:39:47.051578Z",
     "iopub.status.idle": "2023-03-13T07:39:47.061925Z",
     "shell.execute_reply": "2023-03-13T07:39:47.060662Z",
     "shell.execute_reply.started": "2023-03-13T07:39:47.052229Z"
    },
    "trusted": true
   },
   "outputs": [
    {
     "name": "stdout",
     "output_type": "stream",
     "text": [
      "./Alkoholunfalle.png\n"
     ]
    },
    {
     "data": {
      "image/png": "[encoded data removed]",
      "text/plain": [
       "<Figure size 432x288 with 1 Axes>"
      ]
     },
     "metadata": {},
     "output_type": "display_data"
    }
   ],
   "source": [
    "generate_historical_trends(df_alk, 'Alkoholunfalle')"
   ]
  },
  {
   "cell_type": "code",
   "execution_count": 1474,
   "metadata": {},
   "outputs": [
    {
     "name": "stdout",
     "output_type": "stream",
     "text": [
      "./Fluchtunfälle.png\n"
     ]
    },
    {
     "data": {
      "image/png": "[encoded data removed]",
      "text/plain": [
       "<Figure size 432x288 with 1 Axes>"
      ]
     },
     "metadata": {},
     "output_type": "display_data"
    }
   ],
   "source": [
    "generate_historical_trends(df_alk,'Fluchtunfälle')"
   ]
  },
  {
   "cell_type": "code",
   "execution_count": 1475,
   "metadata": {},
   "outputs": [
    {
     "name": "stdout",
     "output_type": "stream",
     "text": [
      "./Verkehrsunfälle.png\n"
     ]
    },
    {
     "data": {
      "image/png": "[encoded data removed]",
      "text/plain": [
       "<Figure size 432x288 with 1 Axes>"
      ]
     },
     "metadata": {},
     "output_type": "display_data"
    }
   ],
   "source": [
    "generate_historical_trends(df_alk,'Verkehrsunfälle')"
   ]
  },
  {
   "cell_type": "code",
   "execution_count": 1476,
   "metadata": {},
   "outputs": [
    {
     "data": {
      "text/html": [
       "<div>\n",
       "<style scoped>\n",
       "    .dataframe tbody tr th:only-of-type {\n",
       "        vertical-align: middle;\n",
       "    }\n",
       "\n",
       "    .dataframe tbody tr th {\n",
       "        vertical-align: top;\n",
       "    }\n",
       "\n",
       "    .dataframe thead th {\n",
       "        text-align: right;\n",
       "    }\n",
       "</style>\n",
       "<table border=\"1\" class=\"dataframe\">\n",
       "  <thead>\n",
       "    <tr style=\"text-align: right;\">\n",
       "      <th></th>\n",
       "      <th>index</th>\n",
       "      <th>MONATSZAHL</th>\n",
       "      <th>AUSPRÄGUNG</th>\n",
       "      <th>JAHR</th>\n",
       "      <th>MONAT</th>\n",
       "      <th>WERT</th>\n",
       "    </tr>\n",
       "  </thead>\n",
       "  <tbody>\n",
       "    <tr>\n",
       "      <th>0</th>\n",
       "      <td>26</td>\n",
       "      <td>Alkoholunfälle</td>\n",
       "      <td>insgesamt</td>\n",
       "      <td>2020</td>\n",
       "      <td>2020-01-01</td>\n",
       "      <td>28.0</td>\n",
       "    </tr>\n",
       "    <tr>\n",
       "      <th>1</th>\n",
       "      <td>27</td>\n",
       "      <td>Alkoholunfälle</td>\n",
       "      <td>insgesamt</td>\n",
       "      <td>2020</td>\n",
       "      <td>2020-02-01</td>\n",
       "      <td>40.0</td>\n",
       "    </tr>\n",
       "    <tr>\n",
       "      <th>2</th>\n",
       "      <td>28</td>\n",
       "      <td>Alkoholunfälle</td>\n",
       "      <td>insgesamt</td>\n",
       "      <td>2020</td>\n",
       "      <td>2020-03-01</td>\n",
       "      <td>27.0</td>\n",
       "    </tr>\n",
       "    <tr>\n",
       "      <th>3</th>\n",
       "      <td>29</td>\n",
       "      <td>Alkoholunfälle</td>\n",
       "      <td>insgesamt</td>\n",
       "      <td>2020</td>\n",
       "      <td>2020-04-01</td>\n",
       "      <td>26.0</td>\n",
       "    </tr>\n",
       "    <tr>\n",
       "      <th>4</th>\n",
       "      <td>30</td>\n",
       "      <td>Alkoholunfälle</td>\n",
       "      <td>insgesamt</td>\n",
       "      <td>2020</td>\n",
       "      <td>2020-05-01</td>\n",
       "      <td>40.0</td>\n",
       "    </tr>\n",
       "    <tr>\n",
       "      <th>...</th>\n",
       "      <td>...</td>\n",
       "      <td>...</td>\n",
       "      <td>...</td>\n",
       "      <td>...</td>\n",
       "      <td>...</td>\n",
       "      <td>...</td>\n",
       "    </tr>\n",
       "    <tr>\n",
       "      <th>1759</th>\n",
       "      <td>2081</td>\n",
       "      <td>Verkehrsunfälle</td>\n",
       "      <td>Verletzte und Getötete</td>\n",
       "      <td>2000</td>\n",
       "      <td>2000-08-01</td>\n",
       "      <td>647.0</td>\n",
       "    </tr>\n",
       "    <tr>\n",
       "      <th>1760</th>\n",
       "      <td>2082</td>\n",
       "      <td>Verkehrsunfälle</td>\n",
       "      <td>Verletzte und Getötete</td>\n",
       "      <td>2000</td>\n",
       "      <td>2000-09-01</td>\n",
       "      <td>675.0</td>\n",
       "    </tr>\n",
       "    <tr>\n",
       "      <th>1761</th>\n",
       "      <td>2083</td>\n",
       "      <td>Verkehrsunfälle</td>\n",
       "      <td>Verletzte und Getötete</td>\n",
       "      <td>2000</td>\n",
       "      <td>2000-10-01</td>\n",
       "      <td>615.0</td>\n",
       "    </tr>\n",
       "    <tr>\n",
       "      <th>1762</th>\n",
       "      <td>2084</td>\n",
       "      <td>Verkehrsunfälle</td>\n",
       "      <td>Verletzte und Getötete</td>\n",
       "      <td>2000</td>\n",
       "      <td>2000-11-01</td>\n",
       "      <td>578.0</td>\n",
       "    </tr>\n",
       "    <tr>\n",
       "      <th>1763</th>\n",
       "      <td>2085</td>\n",
       "      <td>Verkehrsunfälle</td>\n",
       "      <td>Verletzte und Getötete</td>\n",
       "      <td>2000</td>\n",
       "      <td>2000-12-01</td>\n",
       "      <td>515.0</td>\n",
       "    </tr>\n",
       "  </tbody>\n",
       "</table>\n",
       "<p>1764 rows × 6 columns</p>\n",
       "</div>"
      ],
      "text/plain": [
       "      index       MONATSZAHL              AUSPRÄGUNG  JAHR      MONAT   WERT\n",
       "0        26   Alkoholunfälle               insgesamt  2020 2020-01-01   28.0\n",
       "1        27   Alkoholunfälle               insgesamt  2020 2020-02-01   40.0\n",
       "2        28   Alkoholunfälle               insgesamt  2020 2020-03-01   27.0\n",
       "3        29   Alkoholunfälle               insgesamt  2020 2020-04-01   26.0\n",
       "4        30   Alkoholunfälle               insgesamt  2020 2020-05-01   40.0\n",
       "...     ...              ...                     ...   ...        ...    ...\n",
       "1759   2081  Verkehrsunfälle  Verletzte und Getötete  2000 2000-08-01  647.0\n",
       "1760   2082  Verkehrsunfälle  Verletzte und Getötete  2000 2000-09-01  675.0\n",
       "1761   2083  Verkehrsunfälle  Verletzte und Getötete  2000 2000-10-01  615.0\n",
       "1762   2084  Verkehrsunfälle  Verletzte und Getötete  2000 2000-11-01  578.0\n",
       "1763   2085  Verkehrsunfälle  Verletzte und Getötete  2000 2000-12-01  515.0\n",
       "\n",
       "[1764 rows x 6 columns]"
      ]
     },
     "execution_count": 1476,
     "metadata": {},
     "output_type": "execute_result"
    }
   ],
   "source": [
    "df"
   ]
  },
  {
   "attachments": {},
   "cell_type": "markdown",
   "metadata": {},
   "source": [
    "## Forecasting future accidents value "
   ]
  },
  {
   "cell_type": "code",
   "execution_count": 1477,
   "metadata": {},
   "outputs": [
    {
     "data": {
      "text/html": [
       "<div>\n",
       "<style scoped>\n",
       "    .dataframe tbody tr th:only-of-type {\n",
       "        vertical-align: middle;\n",
       "    }\n",
       "\n",
       "    .dataframe tbody tr th {\n",
       "        vertical-align: top;\n",
       "    }\n",
       "\n",
       "    .dataframe thead th {\n",
       "        text-align: right;\n",
       "    }\n",
       "</style>\n",
       "<table border=\"1\" class=\"dataframe\">\n",
       "  <thead>\n",
       "    <tr style=\"text-align: right;\">\n",
       "      <th></th>\n",
       "      <th>index</th>\n",
       "      <th>MONATSZAHL</th>\n",
       "      <th>AUSPRÄGUNG</th>\n",
       "      <th>JAHR</th>\n",
       "      <th>MONAT</th>\n",
       "      <th>WERT</th>\n",
       "    </tr>\n",
       "  </thead>\n",
       "  <tbody>\n",
       "    <tr>\n",
       "      <th>0</th>\n",
       "      <td>26</td>\n",
       "      <td>0</td>\n",
       "      <td>1</td>\n",
       "      <td>2020</td>\n",
       "      <td>2020-01-01</td>\n",
       "      <td>28.0</td>\n",
       "    </tr>\n",
       "    <tr>\n",
       "      <th>1</th>\n",
       "      <td>27</td>\n",
       "      <td>0</td>\n",
       "      <td>1</td>\n",
       "      <td>2020</td>\n",
       "      <td>2020-02-01</td>\n",
       "      <td>40.0</td>\n",
       "    </tr>\n",
       "    <tr>\n",
       "      <th>2</th>\n",
       "      <td>28</td>\n",
       "      <td>0</td>\n",
       "      <td>1</td>\n",
       "      <td>2020</td>\n",
       "      <td>2020-03-01</td>\n",
       "      <td>27.0</td>\n",
       "    </tr>\n",
       "    <tr>\n",
       "      <th>3</th>\n",
       "      <td>29</td>\n",
       "      <td>0</td>\n",
       "      <td>1</td>\n",
       "      <td>2020</td>\n",
       "      <td>2020-04-01</td>\n",
       "      <td>26.0</td>\n",
       "    </tr>\n",
       "    <tr>\n",
       "      <th>4</th>\n",
       "      <td>30</td>\n",
       "      <td>0</td>\n",
       "      <td>1</td>\n",
       "      <td>2020</td>\n",
       "      <td>2020-05-01</td>\n",
       "      <td>40.0</td>\n",
       "    </tr>\n",
       "  </tbody>\n",
       "</table>\n",
       "</div>"
      ],
      "text/plain": [
       "   index  MONATSZAHL  AUSPRÄGUNG  JAHR      MONAT  WERT\n",
       "0     26           0           1  2020 2020-01-01  28.0\n",
       "1     27           0           1  2020 2020-02-01  40.0\n",
       "2     28           0           1  2020 2020-03-01  27.0\n",
       "3     29           0           1  2020 2020-04-01  26.0\n",
       "4     30           0           1  2020 2020-05-01  40.0"
      ]
     },
     "execution_count": 1477,
     "metadata": {},
     "output_type": "execute_result"
    }
   ],
   "source": [
    "# Feature engineering\n",
    "# Create an instance of LabelEncoder\n",
    "le = LabelEncoder()\n",
    "\n",
    "# Fit and transform the data to label encode the categories\n",
    "data_encoded_1 = le.fit_transform(df['AUSPRÄGUNG'])\n",
    "data_encoded_2 = le.fit_transform(df['MONATSZAHL'])\n",
    "\n",
    "df.drop(columns=['AUSPRÄGUNG','MONATSZAHL'])\n",
    "df['AUSPRÄGUNG'] = pd.DataFrame(data_encoded_1)\n",
    "df['MONATSZAHL'] = pd.DataFrame(data_encoded_2)\n",
    "\n",
    "df.head()\n"
   ]
  },
  {
   "cell_type": "code",
   "execution_count": 1478,
   "metadata": {},
   "outputs": [
    {
     "data": {
      "text/html": [
       "<div>\n",
       "<style scoped>\n",
       "    .dataframe tbody tr th:only-of-type {\n",
       "        vertical-align: middle;\n",
       "    }\n",
       "\n",
       "    .dataframe tbody tr th {\n",
       "        vertical-align: top;\n",
       "    }\n",
       "\n",
       "    .dataframe thead th {\n",
       "        text-align: right;\n",
       "    }\n",
       "</style>\n",
       "<table border=\"1\" class=\"dataframe\">\n",
       "  <thead>\n",
       "    <tr style=\"text-align: right;\">\n",
       "      <th></th>\n",
       "      <th>index</th>\n",
       "      <th>MONATSZAHL</th>\n",
       "      <th>AUSPRÄGUNG</th>\n",
       "      <th>JAHR</th>\n",
       "      <th>MONAT</th>\n",
       "      <th>WERT</th>\n",
       "    </tr>\n",
       "  </thead>\n",
       "  <tbody>\n",
       "    <tr>\n",
       "      <th>0</th>\n",
       "      <td>26</td>\n",
       "      <td>0</td>\n",
       "      <td>1</td>\n",
       "      <td>2020</td>\n",
       "      <td>1</td>\n",
       "      <td>28.0</td>\n",
       "    </tr>\n",
       "    <tr>\n",
       "      <th>1</th>\n",
       "      <td>27</td>\n",
       "      <td>0</td>\n",
       "      <td>1</td>\n",
       "      <td>2020</td>\n",
       "      <td>1</td>\n",
       "      <td>40.0</td>\n",
       "    </tr>\n",
       "    <tr>\n",
       "      <th>2</th>\n",
       "      <td>28</td>\n",
       "      <td>0</td>\n",
       "      <td>1</td>\n",
       "      <td>2020</td>\n",
       "      <td>1</td>\n",
       "      <td>27.0</td>\n",
       "    </tr>\n",
       "    <tr>\n",
       "      <th>3</th>\n",
       "      <td>29</td>\n",
       "      <td>0</td>\n",
       "      <td>1</td>\n",
       "      <td>2020</td>\n",
       "      <td>1</td>\n",
       "      <td>26.0</td>\n",
       "    </tr>\n",
       "    <tr>\n",
       "      <th>4</th>\n",
       "      <td>30</td>\n",
       "      <td>0</td>\n",
       "      <td>1</td>\n",
       "      <td>2020</td>\n",
       "      <td>1</td>\n",
       "      <td>40.0</td>\n",
       "    </tr>\n",
       "  </tbody>\n",
       "</table>\n",
       "</div>"
      ],
      "text/plain": [
       "   index  MONATSZAHL  AUSPRÄGUNG  JAHR  MONAT  WERT\n",
       "0     26           0           1  2020      1  28.0\n",
       "1     27           0           1  2020      1  40.0\n",
       "2     28           0           1  2020      1  27.0\n",
       "3     29           0           1  2020      1  26.0\n",
       "4     30           0           1  2020      1  40.0"
      ]
     },
     "execution_count": 1478,
     "metadata": {},
     "output_type": "execute_result"
    }
   ],
   "source": [
    "# Changing the non-string objects into strings to be able to filter the df_meta\n",
    "\n",
    "df['MONAT'] = df['MONAT'].astype(pd.StringDtype()) \n",
    "\n",
    "\n",
    "def func(x):\n",
    "    return int(x[-2:])\n",
    "\n",
    "df['MONAT'] = df['MONAT'].apply(func)\n",
    "\n",
    "df.head()"
   ]
  },
  {
   "cell_type": "code",
   "execution_count": 1479,
   "metadata": {},
   "outputs": [],
   "source": [
    "# Final Pipeline\n",
    "X = df[['MONATSZAHL','AUSPRÄGUNG','JAHR','MONAT']].values\n",
    "y = df[['WERT']].values"
   ]
  },
  {
   "cell_type": "code",
   "execution_count": 1480,
   "metadata": {
    "execution": {
     "iopub.execute_input": "2023-03-13T07:39:47.063885Z",
     "iopub.status.busy": "2023-03-13T07:39:47.063329Z",
     "iopub.status.idle": "2023-03-13T07:39:47.074585Z",
     "shell.execute_reply": "2023-03-13T07:39:47.073223Z",
     "shell.execute_reply.started": "2023-03-13T07:39:47.063849Z"
    },
    "trusted": true
   },
   "outputs": [],
   "source": [
    "X_train, X_test, y_train, y_test = train_test_split(X, y, test_size=0.1, random_state=0)"
   ]
  },
  {
   "cell_type": "code",
   "execution_count": 1481,
   "metadata": {
    "execution": {
     "iopub.execute_input": "2023-03-13T07:39:47.077331Z",
     "iopub.status.busy": "2023-03-13T07:39:47.076349Z",
     "iopub.status.idle": "2023-03-13T07:39:47.086837Z",
     "shell.execute_reply": "2023-03-13T07:39:47.085576Z",
     "shell.execute_reply.started": "2023-03-13T07:39:47.077277Z"
    },
    "trusted": true
   },
   "outputs": [
    {
     "data": {
      "text/plain": [
       "array([[   0,    1, 2020,    1],\n",
       "       [   0,    1, 2020,    1],\n",
       "       [   0,    1, 2020,    1],\n",
       "       ...,\n",
       "       [   2,    0, 2000,    1],\n",
       "       [   2,    0, 2000,    1],\n",
       "       [   2,    0, 2000,    1]], dtype=int64)"
      ]
     },
     "execution_count": 1481,
     "metadata": {},
     "output_type": "execute_result"
    }
   ],
   "source": [
    "X"
   ]
  },
  {
   "cell_type": "code",
   "execution_count": 1482,
   "metadata": {
    "execution": {
     "iopub.execute_input": "2023-03-13T07:39:47.088926Z",
     "iopub.status.busy": "2023-03-13T07:39:47.088564Z",
     "iopub.status.idle": "2023-03-13T07:39:47.096650Z",
     "shell.execute_reply": "2023-03-13T07:39:47.095464Z",
     "shell.execute_reply.started": "2023-03-13T07:39:47.088890Z"
    },
    "trusted": true
   },
   "outputs": [
    {
     "name": "stdout",
     "output_type": "stream",
     "text": [
      "1587\n",
      "1587\n",
      "177\n",
      "177\n"
     ]
    }
   ],
   "source": [
    "print(len(X_train))\n",
    "print(len(y_train))\n",
    "print(len(X_test))\n",
    "print(len(y_test))"
   ]
  },
  {
   "cell_type": "markdown",
   "metadata": {},
   "source": [
    "## Linear Regression"
   ]
  },
  {
   "cell_type": "code",
   "execution_count": 1483,
   "metadata": {
    "execution": {
     "iopub.execute_input": "2023-03-13T07:39:47.099341Z",
     "iopub.status.busy": "2023-03-13T07:39:47.098284Z",
     "iopub.status.idle": "2023-03-13T07:39:47.129499Z",
     "shell.execute_reply": "2023-03-13T07:39:47.127963Z",
     "shell.execute_reply.started": "2023-03-13T07:39:47.099301Z"
    },
    "trusted": true
   },
   "outputs": [
    {
     "name": "stdout",
     "output_type": "stream",
     "text": [
      "RMSE :  931.580725\n"
     ]
    }
   ],
   "source": [
    "regressor_df = LinearRegression()\n",
    "regressor_df.fit(X_train, y_train)\n",
    "\n",
    "y_hat = regressor_df.predict(X_test)\n",
    "rmse = mean_squared_error(y_test,y_hat, squared=False)\n",
    "print(\"RMSE : % f\" %(rmse))"
   ]
  },
  {
   "cell_type": "markdown",
   "metadata": {},
   "source": [
    "## XGBoost"
   ]
  },
  {
   "cell_type": "code",
   "execution_count": 1486,
   "metadata": {},
   "outputs": [
    {
     "data": {
      "text/plain": [
       "array([   2,    1, 2007,    1], dtype=int64)"
      ]
     },
     "execution_count": 1486,
     "metadata": {},
     "output_type": "execute_result"
    }
   ],
   "source": [
    "# get the datatype of the first row\n",
    "X_test[0]"
   ]
  },
  {
   "cell_type": "code",
   "execution_count": null,
   "metadata": {
    "execution": {
     "iopub.execute_input": "2023-03-13T07:39:47.131771Z",
     "iopub.status.busy": "2023-03-13T07:39:47.131263Z",
     "iopub.status.idle": "2023-03-13T07:39:47.229960Z",
     "shell.execute_reply": "2023-03-13T07:39:47.228876Z",
     "shell.execute_reply.started": "2023-03-13T07:39:47.131718Z"
    },
    "trusted": true
   },
   "outputs": [
    {
     "name": "stdout",
     "output_type": "stream",
     "text": [
      "[20:55:49] WARNING: C:/buildkite-agent/builds/buildkite-windows-cpu-autoscaling-group-i-0fc7796c793e6356f-1/xgboost/xgboost-ci-windows/src/objective/regression_obj.cu:213: reg:linear is now deprecated in favor of reg:squarederror.\n",
      "RMSE :  13.122722\n"
     ]
    }
   ],
   "source": [
    "xgb_df = xg.XGBRegressor(objective ='reg:linear',\n",
    "                  n_estimators =10, seed = 123)\n",
    "  \n",
    "# Fitting the model\n",
    "xgb_df.fit(X_train, y_train)\n",
    "  \n",
    "# Predict the model\n",
    "y_hat = xgb_df.predict(X_test)\n",
    "  \n",
    "# RMSE Computation\n",
    "rmse = np.sqrt(mean_squared_error(y_test, y_hat, squared=False))\n",
    "print(\"RMSE : % f\" %(rmse))"
   ]
  },
  {
   "cell_type": "code",
   "execution_count": 1493,
   "metadata": {},
   "outputs": [
    {
     "data": {
      "text/plain": [
       "array([785.3047], dtype=float32)"
      ]
     },
     "execution_count": 1493,
     "metadata": {},
     "output_type": "execute_result"
    }
   ],
   "source": [
    "inp = np.array([[1,1,2020,1]])\n",
    "inp\n",
    "xgb_df.predict(inp)"
   ]
  },
  {
   "cell_type": "code",
   "execution_count": null,
   "metadata": {},
   "outputs": [
    {
     "name": "stdout",
     "output_type": "stream",
     "text": [
      "[20:55:49] WARNING: C:/buildkite-agent/builds/buildkite-windows-cpu-autoscaling-group-i-0fc7796c793e6356f-1/xgboost/xgboost-ci-windows/src/objective/regression_obj.cu:213: reg:linear is now deprecated in favor of reg:squarederror.\n"
     ]
    }
   ],
   "source": [
    "# Xgboost fully trained\n",
    "xgb_final = xg.XGBRegressor(objective ='reg:linear',\n",
    "                  n_estimators =10, seed = 123)\n",
    "  \n",
    "# Fitting the model\n",
    "xgb_final.fit(X, y)\n",
    "  \n",
    "# saving the model using pickle\n",
    "import pickle\n",
    "\n",
    "# Save the model as a pickle file\n",
    "with open('model.pkl', 'wb') as f:\n",
    "    pickle.dump(xgb_final, f)"
   ]
  },
  {
   "cell_type": "code",
   "execution_count": null,
   "metadata": {
    "execution": {
     "iopub.execute_input": "2023-03-13T07:39:47.232344Z",
     "iopub.status.busy": "2023-03-13T07:39:47.231865Z",
     "iopub.status.idle": "2023-03-13T07:39:47.256727Z",
     "shell.execute_reply": "2023-03-13T07:39:47.255209Z",
     "shell.execute_reply.started": "2023-03-13T07:39:47.232295Z"
    },
    "trusted": true
   },
   "outputs": [],
   "source": [
    "pred_df = {'y_actual':[], 'y_pred':[]}\n",
    "pred_df['y_actual'] = pd.DataFrame(y_test)\n",
    "pred_df['y_pred'] = pd.DataFrame(y_hat)"
   ]
  },
  {
   "cell_type": "code",
   "execution_count": null,
   "metadata": {},
   "outputs": [
    {
     "data": {
      "text/plain": [
       "{'y_actual':           0\n",
       " 0    2643.0\n",
       " 1     797.0\n",
       " 2      39.0\n",
       " 3    1095.0\n",
       " 4    3529.0\n",
       " ..      ...\n",
       " 172  1176.0\n",
       " 173   545.0\n",
       " 174    15.0\n",
       " 175    20.0\n",
       " 176    17.0\n",
       " \n",
       " [177 rows x 1 columns],\n",
       " 'y_pred':                0\n",
       " 0    3140.410156\n",
       " 1     721.907471\n",
       " 2      21.379116\n",
       " 3     894.481201\n",
       " 4    3269.238037\n",
       " ..           ...\n",
       " 172   894.481201\n",
       " 173   422.321289\n",
       " 174    15.976789\n",
       " 175    47.155125\n",
       " 176    14.380253\n",
       " \n",
       " [177 rows x 1 columns]}"
      ]
     },
     "execution_count": 1434,
     "metadata": {},
     "output_type": "execute_result"
    }
   ],
   "source": [
    "pred_df"
   ]
  }
 ],
 "metadata": {
  "kernelspec": {
   "display_name": "Python 3",
   "language": "python",
   "name": "python3"
  },
  "language_info": {
   "codemirror_mode": {
    "name": "ipython",
    "version": 3
   },
   "file_extension": ".py",
   "mimetype": "text/x-python",
   "name": "python",
   "nbconvert_exporter": "python",
   "pygments_lexer": "ipython3",
   "version": "3.9.12"
  }
 },
 "nbformat": 4,
 "nbformat_minor": 4
}
